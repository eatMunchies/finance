{
 "cells": [
  {
   "cell_type": "code",
   "execution_count": 1,
   "id": "7d8d917f",
   "metadata": {},
   "outputs": [
    {
     "data": {
      "text/plain": [
       "True"
      ]
     },
     "execution_count": 1,
     "metadata": {},
     "output_type": "execute_result"
    }
   ],
   "source": [
    "import numpy as np\n",
    "import pandas as pd\n",
    "import dotenv\n",
    "import os\n",
    "import requests\n",
    "from data_handler import DataHandler\n",
    "dotenv.load_dotenv()"
   ]
  },
  {
   "cell_type": "code",
   "execution_count": 2,
   "id": "7f8fcad5",
   "metadata": {},
   "outputs": [],
   "source": [
    "# get api key\n",
    "key = os.getenv('ALPHA_KEY')\n",
    "url = os.getenv('ALPHA_URL')"
   ]
  },
  {
   "cell_type": "code",
   "execution_count": 3,
   "id": "942ef43c",
   "metadata": {},
   "outputs": [
    {
     "ename": "KeyError",
     "evalue": "'Time Series (1min)'",
     "output_type": "error",
     "traceback": [
      "\u001b[31m---------------------------------------------------------------------------\u001b[39m",
      "\u001b[31mKeyError\u001b[39m                                  Traceback (most recent call last)",
      "\u001b[36mCell\u001b[39m\u001b[36m \u001b[39m\u001b[32mIn[3]\u001b[39m\u001b[32m, line 13\u001b[39m\n\u001b[32m      3\u001b[39m params = {\n\u001b[32m      4\u001b[39m     \u001b[33m\"\u001b[39m\u001b[33mfunction\u001b[39m\u001b[33m\"\u001b[39m: \u001b[33m\"\u001b[39m\u001b[33mTIME_SERIES_INTRADAY\u001b[39m\u001b[33m\"\u001b[39m,\n\u001b[32m      5\u001b[39m     \u001b[33m\"\u001b[39m\u001b[33minterval\u001b[39m\u001b[33m\"\u001b[39m: \u001b[33m\"\u001b[39m\u001b[33m1min\u001b[39m\u001b[33m\"\u001b[39m,\n\u001b[32m   (...)\u001b[39m\u001b[32m     10\u001b[39m     \u001b[33m\"\u001b[39m\u001b[33mextended_hours\u001b[39m\u001b[33m\"\u001b[39m: \u001b[38;5;28;01mTrue\u001b[39;00m,\n\u001b[32m     11\u001b[39m }\n\u001b[32m     12\u001b[39m response = requests.get(url, params)\n\u001b[32m---> \u001b[39m\u001b[32m13\u001b[39m df = pd.DataFrame(\u001b[43mresponse\u001b[49m\u001b[43m.\u001b[49m\u001b[43mjson\u001b[49m\u001b[43m(\u001b[49m\u001b[43m)\u001b[49m\u001b[43m[\u001b[49m\u001b[33;43m'\u001b[39;49m\u001b[33;43mTime Series (1min)\u001b[39;49m\u001b[33;43m'\u001b[39;49m\u001b[43m]\u001b[49m)\n\u001b[32m     15\u001b[39m params[\u001b[33m'\u001b[39m\u001b[33mmonth\u001b[39m\u001b[33m'\u001b[39m] = \u001b[33m'\u001b[39m\u001b[33m2009-02\u001b[39m\u001b[33m'\u001b[39m\n\u001b[32m     16\u001b[39m response = requests.get(url, params)\n",
      "\u001b[31mKeyError\u001b[39m: 'Time Series (1min)'"
     ]
    }
   ],
   "source": [
    "# test getting data for some tickers\n",
    "# free tier only allows 1 ticker for an intraday request\n",
    "params = {\n",
    "    \"function\": \"TIME_SERIES_INTRADAY\",\n",
    "    \"interval\": \"1min\",\n",
    "    \"apikey\": key,\n",
    "    \"symbol\": 'MSFT',\n",
    "    \"month\": \"2009-01\",\n",
    "    \"outputsize\": \"compact\",\n",
    "    \"extended_hours\": True,\n",
    "}\n",
    "response = requests.get(url, params)\n",
    "df = pd.DataFrame(response.json()['Time Series (1min)'])\n",
    "\n",
    "params['month'] = '2009-02'\n",
    "response = requests.get(url, params)\n",
    "df = pd.concat([df, pd.DataFrame(response.json()['Time Series (1min)'])], axis=1).T"
   ]
  },
  {
   "cell_type": "code",
   "execution_count": null,
   "id": "e407f53e",
   "metadata": {},
   "outputs": [
    {
     "name": "stdout",
     "output_type": "stream",
     "text": [
      "Getting data for: 2009-1\n",
      "Got response: {'Information': 'We have detected your API key as JDH6YJS17ZHGNK31 and our standard API rate limit is 25 requests per day. Please subscribe to any of the premium plans at https://www.alphavantage.co/premium/ to instantly remove all daily rate limits.'}\n"
     ]
    },
    {
     "ename": "KeyError",
     "evalue": "'Time Series (1min)'",
     "output_type": "error",
     "traceback": [
      "\u001b[31m---------------------------------------------------------------------------\u001b[39m",
      "\u001b[31mKeyError\u001b[39m                                  Traceback (most recent call last)",
      "\u001b[36mCell\u001b[39m\u001b[36m \u001b[39m\u001b[32mIn[3]\u001b[39m\u001b[32m, line 2\u001b[39m\n\u001b[32m      1\u001b[39m api = DataHandler(\u001b[33m\"\u001b[39m\u001b[33mALPHA\u001b[39m\u001b[33m\"\u001b[39m)\n\u001b[32m----> \u001b[39m\u001b[32m2\u001b[39m df = \u001b[43mapi\u001b[49m\u001b[43m.\u001b[49m\u001b[43mget_data_raw\u001b[49m\u001b[43m(\u001b[49m\u001b[43m[\u001b[49m\u001b[33;43m'\u001b[39;49m\u001b[33;43mVOO\u001b[39;49m\u001b[33;43m'\u001b[39;49m\u001b[43m]\u001b[49m\u001b[43m,\u001b[49m\u001b[43m \u001b[49m\u001b[43moptions\u001b[49m\u001b[43m=\u001b[49m\u001b[43m{\u001b[49m\n\u001b[32m      3\u001b[39m \u001b[43m    \u001b[49m\u001b[33;43m'\u001b[39;49m\u001b[33;43minterval\u001b[39;49m\u001b[33;43m'\u001b[39;49m\u001b[43m:\u001b[49m\u001b[43m \u001b[49m\u001b[33;43m'\u001b[39;49m\u001b[33;43m1min\u001b[39;49m\u001b[33;43m'\u001b[39;49m\u001b[43m,\u001b[49m\n\u001b[32m      4\u001b[39m \u001b[43m    \u001b[49m\u001b[33;43m'\u001b[39;49m\u001b[33;43mextended_hours\u001b[39;49m\u001b[33;43m'\u001b[39;49m\u001b[43m:\u001b[49m\u001b[43m \u001b[49m\u001b[38;5;28;43;01mTrue\u001b[39;49;00m\u001b[43m,\u001b[49m\n\u001b[32m      5\u001b[39m \u001b[43m    \u001b[49m\u001b[33;43m'\u001b[39;49m\u001b[33;43madjusted\u001b[39;49m\u001b[33;43m'\u001b[39;49m\u001b[43m:\u001b[49m\u001b[43m \u001b[49m\u001b[38;5;28;43;01mTrue\u001b[39;49;00m\n\u001b[32m      6\u001b[39m \u001b[43m}\u001b[49m\u001b[43m)\u001b[49m\n",
      "\u001b[36mFile \u001b[39m\u001b[32m~/Desktop/Personal/Finance/finance/data_handler.py:71\u001b[39m, in \u001b[36mDataHandler.get_data_raw\u001b[39m\u001b[34m(self, symbols, date_from, date_to, options)\u001b[39m\n\u001b[32m     69\u001b[39m response = r.get(\u001b[38;5;28mself\u001b[39m.url, params=params)\n\u001b[32m     70\u001b[39m \u001b[38;5;28mprint\u001b[39m(\u001b[33m\"\u001b[39m\u001b[33mGot response:\u001b[39m\u001b[33m\"\u001b[39m, response.json())\n\u001b[32m---> \u001b[39m\u001b[32m71\u001b[39m data = \u001b[43mresponse\u001b[49m\u001b[43m.\u001b[49m\u001b[43mjson\u001b[49m\u001b[43m(\u001b[49m\u001b[43m)\u001b[49m\u001b[43m[\u001b[49m\u001b[33;43m'\u001b[39;49m\u001b[33;43mTime Series (1min)\u001b[39;49m\u001b[33;43m'\u001b[39;49m\u001b[43m]\u001b[49m\n\u001b[32m     72\u001b[39m \u001b[38;5;28mprint\u001b[39m(\u001b[33m\"\u001b[39m\u001b[33mGot data:\u001b[39m\u001b[33m\"\u001b[39m, data)\n\u001b[32m     73\u001b[39m \u001b[38;5;66;03m# first loop check\u001b[39;00m\n",
      "\u001b[31mKeyError\u001b[39m: 'Time Series (1min)'"
     ]
    }
   ],
   "source": [
    "api = DataHandler(\"ALPHA\")\n",
    "df = api.get_data_raw(options={\n",
    "    'symbol': 'VOO'\n",
    "    'interval': '1min',\n",
    "    'extended_hours': True,\n",
    "    'adjusted': True\n",
    "})"
   ]
  },
  {
   "cell_type": "code",
   "execution_count": 50,
   "id": "337e0aa4",
   "metadata": {},
   "outputs": [],
   "source": [
    "# intraday unadjusted (adjusted is not free)\n",
    "params = {\n",
    "    \"api_token\": key,\n",
    "    \"symbols\": [\"AAPL\"],\n",
    "    \"sort\": \"desc\",\n",
    "    \"date_from\": \"2024-06-25\",\n",
    "    \"date_to\": \"2024-06-30\",\n",
    "    \"key_by_date\": True,\n",
    "}\n",
    "response = requests.get(url_unadjusted, params)"
   ]
  },
  {
   "cell_type": "code",
   "execution_count": 51,
   "id": "92816b24",
   "metadata": {},
   "outputs": [
    {
     "data": {
      "text/plain": [
       "{'date_from': '2025-07-25', 'date_to': '2025-08-01', 'max_period_days': 7}"
      ]
     },
     "execution_count": 51,
     "metadata": {},
     "output_type": "execute_result"
    }
   ],
   "source": [
    "# look at data\n",
    "response_dict = dict(response.json())\n",
    "response_dict.keys()\n",
    "metadata = response_dict['meta']\n",
    "data = response_dict['data']\n",
    "metadata"
   ]
  },
  {
   "cell_type": "code",
   "execution_count": 52,
   "id": "b7ab46ef",
   "metadata": {},
   "outputs": [
    {
     "name": "stdout",
     "output_type": "stream",
     "text": [
      "Index(['date', 'ticker', 'data'], dtype='object')\n",
      "                       date ticker  \\\n",
      "0  2025-08-01T15:59:00.000Z   AAPL   \n",
      "1  2025-08-01T15:58:00.000Z   AAPL   \n",
      "2  2025-08-01T15:57:00.000Z   AAPL   \n",
      "3  2025-08-01T15:56:00.000Z   AAPL   \n",
      "4  2025-08-01T15:55:00.000Z   AAPL   \n",
      "\n",
      "                                                data  \n",
      "0  {'open': 202.38, 'high': 202.45, 'low': 202.19...  \n",
      "1  {'open': 202.52, 'high': 202.54, 'low': 202.34...  \n",
      "2  {'open': 202.62, 'high': 202.64, 'low': 202.37...  \n",
      "3  {'open': 202.61, 'high': 202.71, 'low': 202.54...  \n",
      "4  {'open': 202.77, 'high': 203.01, 'low': 202.44...  \n"
     ]
    }
   ],
   "source": [
    "# lets look at the data structure\n",
    "df = pd.DataFrame(data)\n",
    "print(df.columns)\n",
    "print(df.head(5))"
   ]
  },
  {
   "cell_type": "code",
   "execution_count": 53,
   "id": "988e3c3e",
   "metadata": {},
   "outputs": [
    {
     "data": {
      "text/html": [
       "<div>\n",
       "<style scoped>\n",
       "    .dataframe tbody tr th:only-of-type {\n",
       "        vertical-align: middle;\n",
       "    }\n",
       "\n",
       "    .dataframe tbody tr th {\n",
       "        vertical-align: top;\n",
       "    }\n",
       "\n",
       "    .dataframe thead th {\n",
       "        text-align: right;\n",
       "    }\n",
       "</style>\n",
       "<table border=\"1\" class=\"dataframe\">\n",
       "  <thead>\n",
       "    <tr style=\"text-align: right;\">\n",
       "      <th></th>\n",
       "      <th>date</th>\n",
       "      <th>ticker</th>\n",
       "      <th>open</th>\n",
       "      <th>high</th>\n",
       "      <th>low</th>\n",
       "      <th>close</th>\n",
       "      <th>volume</th>\n",
       "      <th>is_extended_hours</th>\n",
       "    </tr>\n",
       "  </thead>\n",
       "  <tbody>\n",
       "    <tr>\n",
       "      <th>0</th>\n",
       "      <td>2025-08-01T15:59:00.000Z</td>\n",
       "      <td>AAPL</td>\n",
       "      <td>202.38</td>\n",
       "      <td>202.45</td>\n",
       "      <td>202.19</td>\n",
       "      <td>202.37</td>\n",
       "      <td>33846</td>\n",
       "      <td>False</td>\n",
       "    </tr>\n",
       "    <tr>\n",
       "      <th>1</th>\n",
       "      <td>2025-08-01T15:58:00.000Z</td>\n",
       "      <td>AAPL</td>\n",
       "      <td>202.52</td>\n",
       "      <td>202.54</td>\n",
       "      <td>202.34</td>\n",
       "      <td>202.39</td>\n",
       "      <td>14766</td>\n",
       "      <td>False</td>\n",
       "    </tr>\n",
       "    <tr>\n",
       "      <th>2</th>\n",
       "      <td>2025-08-01T15:57:00.000Z</td>\n",
       "      <td>AAPL</td>\n",
       "      <td>202.62</td>\n",
       "      <td>202.64</td>\n",
       "      <td>202.37</td>\n",
       "      <td>202.54</td>\n",
       "      <td>13493</td>\n",
       "      <td>False</td>\n",
       "    </tr>\n",
       "    <tr>\n",
       "      <th>3</th>\n",
       "      <td>2025-08-01T15:56:00.000Z</td>\n",
       "      <td>AAPL</td>\n",
       "      <td>202.61</td>\n",
       "      <td>202.71</td>\n",
       "      <td>202.54</td>\n",
       "      <td>202.59</td>\n",
       "      <td>9979</td>\n",
       "      <td>False</td>\n",
       "    </tr>\n",
       "    <tr>\n",
       "      <th>4</th>\n",
       "      <td>2025-08-01T15:55:00.000Z</td>\n",
       "      <td>AAPL</td>\n",
       "      <td>202.77</td>\n",
       "      <td>203.01</td>\n",
       "      <td>202.44</td>\n",
       "      <td>202.59</td>\n",
       "      <td>16783</td>\n",
       "      <td>False</td>\n",
       "    </tr>\n",
       "  </tbody>\n",
       "</table>\n",
       "</div>"
      ],
      "text/plain": [
       "                       date ticker    open    high     low   close  volume  \\\n",
       "0  2025-08-01T15:59:00.000Z   AAPL  202.38  202.45  202.19  202.37   33846   \n",
       "1  2025-08-01T15:58:00.000Z   AAPL  202.52  202.54  202.34  202.39   14766   \n",
       "2  2025-08-01T15:57:00.000Z   AAPL  202.62  202.64  202.37  202.54   13493   \n",
       "3  2025-08-01T15:56:00.000Z   AAPL  202.61  202.71  202.54  202.59    9979   \n",
       "4  2025-08-01T15:55:00.000Z   AAPL  202.77  203.01  202.44  202.59   16783   \n",
       "\n",
       "   is_extended_hours  \n",
       "0              False  \n",
       "1              False  \n",
       "2              False  \n",
       "3              False  \n",
       "4              False  "
      ]
     },
     "execution_count": 53,
     "metadata": {},
     "output_type": "execute_result"
    }
   ],
   "source": [
    "# need to destructure the dataframe\n",
    "df['data'][0].keys()\n",
    "df_flat = pd.concat([df.drop(columns=[\"data\"]), pd.json_normalize(df[\"data\"])], axis=1)\n",
    "df_flat.head(5)"
   ]
  },
  {
   "cell_type": "code",
   "execution_count": null,
   "id": "592c5489",
   "metadata": {},
   "outputs": [],
   "source": []
  },
  {
   "cell_type": "code",
   "execution_count": 4,
   "id": "e72974b6",
   "metadata": {},
   "outputs": [],
   "source": [
    "from data_handler import DataHandler\n",
    "api = DataHandler()\n",
    "df = api.get_data([\"VOO\"], date_from=\"2024-08-18\", date_to=\"2025-08-18\")"
   ]
  },
  {
   "cell_type": "code",
   "execution_count": 7,
   "id": "b355daff",
   "metadata": {},
   "outputs": [
    {
     "name": "stdout",
     "output_type": "stream",
     "text": [
      "   index                      date ticker    open    high     low   close  \\\n",
      "0      0  2025-07-28T09:30:00.000Z    VOO  586.01  586.19  585.91  586.19   \n",
      "1      1  2025-07-28T09:31:00.000Z    VOO  586.12  586.12  586.08  586.08   \n",
      "2      2  2025-07-28T09:32:00.000Z    VOO  585.92  586.04  585.92  586.04   \n",
      "3      3  2025-07-28T09:33:00.000Z    VOO  585.99  586.14  585.96  586.08   \n",
      "4      4  2025-07-28T09:34:00.000Z    VOO  586.12  586.12  585.96  586.04   \n",
      "\n",
      "   volume  is_extended_hours  \n",
      "0     501              False  \n",
      "1     110              False  \n",
      "2     121              False  \n",
      "3    1629              False  \n",
      "4    2352              False  \n",
      "1628\n",
      "Earliest record: 2025-07-28T09:30:00.000Z\n",
      "Latest record: 2025-08-01T13:39:00.000Z\n",
      "Number of records: 1628\n"
     ]
    }
   ],
   "source": [
    "# look at data \n",
    "print(df.head()) \n",
    "print(len(df)) \n",
    "print(\"Earliest record: \" + str(df['date'][0]))\n",
    "print(\"Latest record: \" + str(df['date'][1488]))\n",
    "print(\"Number of records: \" + str(len(df)))"
   ]
  },
  {
   "cell_type": "code",
   "execution_count": 12,
   "id": "cfc33363",
   "metadata": {},
   "outputs": [
    {
     "data": {
      "text/plain": [
       "True"
      ]
     },
     "execution_count": 12,
     "metadata": {},
     "output_type": "execute_result"
    }
   ],
   "source": [
    "# save to csv to save on api calls\n",
    "api.save_to_csv(\"VOO_8_18_25_to_8_22_25\", df)"
   ]
  },
  {
   "cell_type": "code",
   "execution_count": null,
   "id": "177f50ef",
   "metadata": {},
   "outputs": [],
   "source": []
  }
 ],
 "metadata": {
  "kernelspec": {
   "display_name": "venv",
   "language": "python",
   "name": "python3"
  },
  "language_info": {
   "codemirror_mode": {
    "name": "ipython",
    "version": 3
   },
   "file_extension": ".py",
   "mimetype": "text/x-python",
   "name": "python",
   "nbconvert_exporter": "python",
   "pygments_lexer": "ipython3",
   "version": "3.13.7"
  }
 },
 "nbformat": 4,
 "nbformat_minor": 5
}
