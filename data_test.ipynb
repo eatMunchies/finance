{
 "cells": [
  {
   "cell_type": "code",
   "execution_count": 1,
   "id": "7d8d917f",
   "metadata": {},
   "outputs": [
    {
     "data": {
      "text/plain": [
       "True"
      ]
     },
     "execution_count": 1,
     "metadata": {},
     "output_type": "execute_result"
    }
   ],
   "source": [
    "import numpy as np\n",
    "import pandas as pd\n",
    "import dotenv\n",
    "import os\n",
    "import requests\n",
    "\n",
    "dotenv.load_dotenv()"
   ]
  },
  {
   "cell_type": "code",
   "execution_count": 26,
   "id": "7f8fcad5",
   "metadata": {},
   "outputs": [],
   "source": [
    "# get api key\n",
    "key = os.getenv('STOCK_DATA_API_KEY')\n",
    "url = os.getenv('STOCK_PRICE_DATA_API_URL')\n",
    "url_adjusted = os.getenv('ADJUSTED_INTRADAY_URL')\n",
    "url_unadjusted = os.getenv('UNADJUSTED_INTRADAY_URL')"
   ]
  },
  {
   "cell_type": "code",
   "execution_count": 22,
   "id": "942ef43c",
   "metadata": {},
   "outputs": [
    {
     "data": {
      "text/plain": [
       "{'meta': {'requested': 1, 'returned': 1},\n",
       " 'data': [{'ticker': 'MSFT',\n",
       "   'name': 'Microsoft Corporation',\n",
       "   'exchange_short': None,\n",
       "   'exchange_long': None,\n",
       "   'mic_code': 'IEXG',\n",
       "   'currency': 'USD',\n",
       "   'price': 507.29,\n",
       "   'day_high': 510.7,\n",
       "   'day_low': 502.48,\n",
       "   'day_open': 504.3,\n",
       "   '52_week_high': None,\n",
       "   '52_week_low': None,\n",
       "   'market_cap': None,\n",
       "   'previous_close_price': 504.22,\n",
       "   'previous_close_price_time': '2025-08-21T15:59:57.000000',\n",
       "   'day_change': 0.61,\n",
       "   'volume': 702446,\n",
       "   'is_extended_hours_price': False,\n",
       "   'last_trade_time': '2025-08-22T16:00:00.000000'}]}"
      ]
     },
     "execution_count": 22,
     "metadata": {},
     "output_type": "execute_result"
    }
   ],
   "source": [
    "# test getting data for some tickers\n",
    "# free tier only allows 1 ticker for an intraday request\n",
    "params = {\n",
    "    \"api_token\": key,\n",
    "    \"symbols\": ['MSFT'],\n",
    "    \"extended_hours\": True,\n",
    "    \"key_by_ticker\": True\n",
    "}\n",
    "response = requests.get(url, params)\n",
    "response.json()"
   ]
  },
  {
   "cell_type": "code",
   "execution_count": 50,
   "id": "337e0aa4",
   "metadata": {},
   "outputs": [],
   "source": [
    "# intraday unadjusted (adjusted is not free)\n",
    "params = {\n",
    "    \"api_token\": key,\n",
    "    \"symbols\": [\"AAPL\"],\n",
    "    \"sort\": \"desc\",\n",
    "    \"date_from\": \"2024-06-25\",\n",
    "    \"date_to\": \"2024-06-30\",\n",
    "    \"key_by_date\": True,\n",
    "}\n",
    "response = requests.get(url_unadjusted, params)"
   ]
  },
  {
   "cell_type": "code",
   "execution_count": 51,
   "id": "92816b24",
   "metadata": {},
   "outputs": [
    {
     "data": {
      "text/plain": [
       "{'date_from': '2025-07-25', 'date_to': '2025-08-01', 'max_period_days': 7}"
      ]
     },
     "execution_count": 51,
     "metadata": {},
     "output_type": "execute_result"
    }
   ],
   "source": [
    "# look at data\n",
    "response_dict = dict(response.json())\n",
    "response_dict.keys()\n",
    "metadata = response_dict['meta']\n",
    "data = response_dict['data']\n",
    "metadata"
   ]
  },
  {
   "cell_type": "code",
   "execution_count": 52,
   "id": "b7ab46ef",
   "metadata": {},
   "outputs": [
    {
     "name": "stdout",
     "output_type": "stream",
     "text": [
      "Index(['date', 'ticker', 'data'], dtype='object')\n",
      "                       date ticker  \\\n",
      "0  2025-08-01T15:59:00.000Z   AAPL   \n",
      "1  2025-08-01T15:58:00.000Z   AAPL   \n",
      "2  2025-08-01T15:57:00.000Z   AAPL   \n",
      "3  2025-08-01T15:56:00.000Z   AAPL   \n",
      "4  2025-08-01T15:55:00.000Z   AAPL   \n",
      "\n",
      "                                                data  \n",
      "0  {'open': 202.38, 'high': 202.45, 'low': 202.19...  \n",
      "1  {'open': 202.52, 'high': 202.54, 'low': 202.34...  \n",
      "2  {'open': 202.62, 'high': 202.64, 'low': 202.37...  \n",
      "3  {'open': 202.61, 'high': 202.71, 'low': 202.54...  \n",
      "4  {'open': 202.77, 'high': 203.01, 'low': 202.44...  \n"
     ]
    }
   ],
   "source": [
    "# lets look at the data structure\n",
    "df = pd.DataFrame(data)\n",
    "print(df.columns)\n",
    "print(df.head(5))"
   ]
  },
  {
   "cell_type": "code",
   "execution_count": 53,
   "id": "988e3c3e",
   "metadata": {},
   "outputs": [
    {
     "data": {
      "text/html": [
       "<div>\n",
       "<style scoped>\n",
       "    .dataframe tbody tr th:only-of-type {\n",
       "        vertical-align: middle;\n",
       "    }\n",
       "\n",
       "    .dataframe tbody tr th {\n",
       "        vertical-align: top;\n",
       "    }\n",
       "\n",
       "    .dataframe thead th {\n",
       "        text-align: right;\n",
       "    }\n",
       "</style>\n",
       "<table border=\"1\" class=\"dataframe\">\n",
       "  <thead>\n",
       "    <tr style=\"text-align: right;\">\n",
       "      <th></th>\n",
       "      <th>date</th>\n",
       "      <th>ticker</th>\n",
       "      <th>open</th>\n",
       "      <th>high</th>\n",
       "      <th>low</th>\n",
       "      <th>close</th>\n",
       "      <th>volume</th>\n",
       "      <th>is_extended_hours</th>\n",
       "    </tr>\n",
       "  </thead>\n",
       "  <tbody>\n",
       "    <tr>\n",
       "      <th>0</th>\n",
       "      <td>2025-08-01T15:59:00.000Z</td>\n",
       "      <td>AAPL</td>\n",
       "      <td>202.38</td>\n",
       "      <td>202.45</td>\n",
       "      <td>202.19</td>\n",
       "      <td>202.37</td>\n",
       "      <td>33846</td>\n",
       "      <td>False</td>\n",
       "    </tr>\n",
       "    <tr>\n",
       "      <th>1</th>\n",
       "      <td>2025-08-01T15:58:00.000Z</td>\n",
       "      <td>AAPL</td>\n",
       "      <td>202.52</td>\n",
       "      <td>202.54</td>\n",
       "      <td>202.34</td>\n",
       "      <td>202.39</td>\n",
       "      <td>14766</td>\n",
       "      <td>False</td>\n",
       "    </tr>\n",
       "    <tr>\n",
       "      <th>2</th>\n",
       "      <td>2025-08-01T15:57:00.000Z</td>\n",
       "      <td>AAPL</td>\n",
       "      <td>202.62</td>\n",
       "      <td>202.64</td>\n",
       "      <td>202.37</td>\n",
       "      <td>202.54</td>\n",
       "      <td>13493</td>\n",
       "      <td>False</td>\n",
       "    </tr>\n",
       "    <tr>\n",
       "      <th>3</th>\n",
       "      <td>2025-08-01T15:56:00.000Z</td>\n",
       "      <td>AAPL</td>\n",
       "      <td>202.61</td>\n",
       "      <td>202.71</td>\n",
       "      <td>202.54</td>\n",
       "      <td>202.59</td>\n",
       "      <td>9979</td>\n",
       "      <td>False</td>\n",
       "    </tr>\n",
       "    <tr>\n",
       "      <th>4</th>\n",
       "      <td>2025-08-01T15:55:00.000Z</td>\n",
       "      <td>AAPL</td>\n",
       "      <td>202.77</td>\n",
       "      <td>203.01</td>\n",
       "      <td>202.44</td>\n",
       "      <td>202.59</td>\n",
       "      <td>16783</td>\n",
       "      <td>False</td>\n",
       "    </tr>\n",
       "  </tbody>\n",
       "</table>\n",
       "</div>"
      ],
      "text/plain": [
       "                       date ticker    open    high     low   close  volume  \\\n",
       "0  2025-08-01T15:59:00.000Z   AAPL  202.38  202.45  202.19  202.37   33846   \n",
       "1  2025-08-01T15:58:00.000Z   AAPL  202.52  202.54  202.34  202.39   14766   \n",
       "2  2025-08-01T15:57:00.000Z   AAPL  202.62  202.64  202.37  202.54   13493   \n",
       "3  2025-08-01T15:56:00.000Z   AAPL  202.61  202.71  202.54  202.59    9979   \n",
       "4  2025-08-01T15:55:00.000Z   AAPL  202.77  203.01  202.44  202.59   16783   \n",
       "\n",
       "   is_extended_hours  \n",
       "0              False  \n",
       "1              False  \n",
       "2              False  \n",
       "3              False  \n",
       "4              False  "
      ]
     },
     "execution_count": 53,
     "metadata": {},
     "output_type": "execute_result"
    }
   ],
   "source": [
    "# need to destructure the dataframe\n",
    "df['data'][0].keys()\n",
    "df_flat = pd.concat([df.drop(columns=[\"data\"]), pd.json_normalize(df[\"data\"])], axis=1)\n",
    "df_flat.head(5)"
   ]
  },
  {
   "cell_type": "code",
   "execution_count": 2,
   "id": "592c5489",
   "metadata": {},
   "outputs": [],
   "source": [
    "from data_handler import DataHandler"
   ]
  },
  {
   "cell_type": "code",
   "execution_count": null,
   "id": "e72974b6",
   "metadata": {},
   "outputs": [],
   "source": [
    "api = DataHandler()\n",
    "df = api.get_data([\"VOO\"])"
   ]
  },
  {
   "cell_type": "code",
   "execution_count": null,
   "id": "b355daff",
   "metadata": {},
   "outputs": [
    {
     "name": "stdout",
     "output_type": "stream",
     "text": [
      "                       date ticker    open    high     low   close  volume  \\\n",
      "0  2025-08-18T09:30:00.000Z    VOO  590.98  591.23  590.95  591.16    2140   \n",
      "1  2025-08-18T09:31:00.000Z    VOO  591.34  591.34  591.10  591.10     400   \n",
      "2  2025-08-18T09:32:00.000Z    VOO  591.14  591.14  591.14  591.14       1   \n",
      "3  2025-08-18T09:33:00.000Z    VOO  591.20  591.30  591.20  591.30     122   \n",
      "4  2025-08-18T09:34:00.000Z    VOO  591.26  591.48  591.26  591.48      16   \n",
      "\n",
      "   is_extended_hours  \n",
      "0              False  \n",
      "1              False  \n",
      "2              False  \n",
      "3              False  \n",
      "4              False  \n",
      "1489\n",
      "2025-08-18T09:30:00.000Z\n",
      "2025-08-22T15:59:00.000Z\n"
     ]
    }
   ],
   "source": [
    "# look at data \n",
    "print(df.head()) \n",
    "print(len(df)) \n",
    "print(\"Earliest record: \" + df['date'][0])\n",
    "print(\"Latest record: \" + df['date'][1488])\n",
    "print(\"Number of records: \" + len(df))"
   ]
  },
  {
   "cell_type": "code",
   "execution_count": 12,
   "id": "cfc33363",
   "metadata": {},
   "outputs": [
    {
     "data": {
      "text/plain": [
       "True"
      ]
     },
     "execution_count": 12,
     "metadata": {},
     "output_type": "execute_result"
    }
   ],
   "source": [
    "# save to csv to save on api calls\n",
    "api.save_to_csv(\"VOO_8_18_25_to_8_22_25\", df)"
   ]
  },
  {
   "cell_type": "code",
   "execution_count": null,
   "id": "177f50ef",
   "metadata": {},
   "outputs": [],
   "source": []
  }
 ],
 "metadata": {
  "kernelspec": {
   "display_name": "venv",
   "language": "python",
   "name": "python3"
  },
  "language_info": {
   "codemirror_mode": {
    "name": "ipython",
    "version": 3
   },
   "file_extension": ".py",
   "mimetype": "text/x-python",
   "name": "python",
   "nbconvert_exporter": "python",
   "pygments_lexer": "ipython3",
   "version": "3.13.7"
  }
 },
 "nbformat": 4,
 "nbformat_minor": 5
}
